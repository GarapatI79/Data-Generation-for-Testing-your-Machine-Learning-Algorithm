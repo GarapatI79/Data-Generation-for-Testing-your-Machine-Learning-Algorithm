{
 "cells": [
  {
   "cell_type": "markdown",
   "metadata": {
    "colab_type": "text",
    "id": "ftyDbuwCPdmI"
   },
   "source": [
    "# 1. Pressure vessel design problem\n",
    "We got the function from [Metamodel-Based Optimization for Problems With Expensive Objective and Constraint Functions](https:/https://asmedigitalcollection.asme.org/mechanicaldesign/article-abstract/133/1/014505/432598/)\n",
    "![](https://drive.google.com/uc?id=1i-_Zib14N1JsfL_PLxvXUnGtQ4SBLHXb)"
   ]
  },
  {
   "cell_type": "code",
   "execution_count": 2,
   "metadata": {
    "colab": {},
    "colab_type": "code",
    "id": "5ixGN9YVWouY"
   },
   "outputs": [],
   "source": [
    "import numpy as np\n",
    "import pandas as pd\n",
    "x_1 = []\n",
    "x_2 = []\n",
    "x_3 = []\n",
    "x_4 = []\n",
    "y = []\n",
    "for i in range(0,100):\n",
    "  a = np.random.uniform(1,1.375)\n",
    "  x_1.append(a)\n",
    "\n",
    "  b = np.random.uniform(0.625,1)\n",
    "  x_2.append(b)\n",
    "\n",
    "  c = np.random.uniform(25,150)\n",
    "  x_3.append(c)\n",
    "\n",
    "  d = np.random.uniform(25,240)\n",
    "  x_4.append(d)\n",
    "\n",
    "  y.append(0.6224*a*c*d + 1.7781*b*(c**2) + 3.1661*(a**2)*d + 19.84*(a**2)*c)\n",
    "\n",
    "data = {'x_1':x_1, 'x_2':x_2,\n",
    "        'x_3':x_3, 'x_4':x_4,\n",
    "        'y':y}\n",
    "df = pd.DataFrame(data)\n",
    "df.to_csv('Pressure_Vessel_Random_Examples.csv')"
   ]
  },
  {
   "cell_type": "markdown",
   "metadata": {
    "colab_type": "text",
    "id": "0mI9-U3qW3Mw"
   },
   "source": [
    "# 2. NASA speed reducer design problem\n",
    "We got the function from [Society and civilization: An optimization algorithm based on the simulation of social behavior](https://ieeexplore.ieee.org/abstract/document/1223578)\n",
    "![](https://drive.google.com/uc?id=1LsxCwfCcyP6slPImSpp0rJd4huz-MCll)"
   ]
  },
  {
   "cell_type": "code",
   "execution_count": 0,
   "metadata": {
    "colab": {},
    "colab_type": "code",
    "id": "t7WjZmH3X1_y"
   },
   "outputs": [],
   "source": [
    "import numpy as np\n",
    "import pandas as pd\n",
    "x_1 = []\n",
    "x_2 = []\n",
    "x_3 = []\n",
    "x_4 = []\n",
    "x_5 = []\n",
    "x_6 = []\n",
    "x_7 = []\n",
    "y = []\n",
    "for i in range(0,100):\n",
    "  a = np.random.uniform(2.6, 3.6)\n",
    "  x_1.append(a)\n",
    "\n",
    "  b = np.random.uniform(0.7, 0.8)\n",
    "  x_2.append(b)\n",
    "\n",
    "  c = np.random.uniform(17, 28)\n",
    "  x_3.append(c)\n",
    "\n",
    "  d = np.random.uniform(7.3, 8.3)\n",
    "  x_4.append(d)\n",
    "  \n",
    "  e = np.random.uniform(7.8, 8.3)\n",
    "  x_5.append(e)\n",
    "\n",
    "  f = np.random.uniform(2.9, 3.9)\n",
    "  x_6.append(f)\n",
    "\n",
    "  g = np.random.uniform(5, 5.5)\n",
    "  x_7.append(g)\n",
    "\n",
    "  y.append(0.7854*(a)*(b**2)*(3.3333*c**2 + 14.9334*c - -43.0934) - 1.508*a*(f**2 + g**2)+ 7.4777*(f**3 + g**3) + 0.7854*(d*(f**2) + e*(g**2)))\n",
    "\n",
    "data = {'x_1':x_1, 'x_2':x_2,\n",
    "        'x_3':x_3, 'x_4':x_4,\n",
    "        'x_5':x_5, 'x_6':x_6,\n",
    "        'x_7':x_7, 'y':y}\n",
    "df = pd.DataFrame(data)\n",
    "df.to_csv('Random_Examples.csv')"
   ]
  }
 ],
 "metadata": {
  "colab": {
   "authorship_tag": "ABX9TyOOOSSQlXo2QD1lR3Q3ChYa",
   "collapsed_sections": [],
   "mount_file_id": "1AQ4wouHtO8-k_aeu8n3JBTk2jvhxjYtl",
   "name": "Data Generation",
   "provenance": []
  },
  "kernelspec": {
   "display_name": "Python 3",
   "language": "python",
   "name": "python3"
  },
  "language_info": {
   "codemirror_mode": {
    "name": "ipython",
    "version": 3
   },
   "file_extension": ".py",
   "mimetype": "text/x-python",
   "name": "python",
   "nbconvert_exporter": "python",
   "pygments_lexer": "ipython3",
   "version": "3.7.4"
  }
 },
 "nbformat": 4,
 "nbformat_minor": 1
}
